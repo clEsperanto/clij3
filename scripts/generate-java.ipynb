{
 "cells": [
  {
   "cell_type": "markdown",
   "metadata": {},
   "source": [
    "# Tier Wrapper generator for clesperantoj / CLIJ3\n",
    "\n",
    "The following notebook generates the wrapping code to make C++ available to the clesperantoj and CLIJ3 Java code.\n",
    "\n",
    "__*WARNING*__: this can break the code if the java package is not update consequently. Please check the code and run the tests before pushing."
   ]
  },
  {
   "cell_type": "code",
   "execution_count": 1,
   "metadata": {
    "tags": []
   },
   "outputs": [],
   "source": [
    "CLIC_DIR = 'C:/structure/code/CLIc_prototype/clic'"
   ]
  },
  {
   "cell_type": "markdown",
   "metadata": {},
   "source": [
    "These files will be overwritten:"
   ]
  },
  {
   "cell_type": "code",
   "execution_count": 2,
   "metadata": {
    "tags": []
   },
   "outputs": [],
   "source": [
    "KERNELJ_HEADER_FILE = 'C:/structure/code/clesperantoj_prototype/native/clesperantoj/include/kernelj.hpp'"
   ]
  },
  {
   "cell_type": "code",
   "execution_count": 3,
   "metadata": {
    "tags": []
   },
   "outputs": [],
   "source": [
    "KERNELJ_SOURCE_FILE = 'C:/structure/code/clesperantoj_prototype/native/clesperantoj/src/kernelj.cpp'"
   ]
  },
  {
   "cell_type": "code",
   "execution_count": 4,
   "metadata": {
    "tags": []
   },
   "outputs": [],
   "source": [
    "CLIJ3_GATEWAY_SOURCE_FILE = 'C:/structure/code/clij3/src/main/java/net/clesperanto/CLIJ3.java'"
   ]
  },
  {
   "cell_type": "markdown",
   "metadata": {},
   "source": [
    "These kernels will be excluded from the API:"
   ]
  },
  {
   "cell_type": "code",
   "execution_count": 5,
   "metadata": {
    "tags": []
   },
   "outputs": [],
   "source": [
    "GENERATOR_BLACKLIST =  [\"Custom\", \"ExecuteSeparable\", \"Separable\"]"
   ]
  },
  {
   "cell_type": "markdown",
   "metadata": {},
   "source": [
    "These functions help deciding what output-type functions have."
   ]
  },
  {
   "cell_type": "code",
   "execution_count": 6,
   "metadata": {
    "tags": []
   },
   "outputs": [
    {
     "data": {
      "text/plain": [
       "False"
      ]
     },
     "execution_count": 6,
     "metadata": {},
     "output_type": "execute_result"
    }
   ],
   "source": [
    "def produces_label_image(function_name):\n",
    "    return function_name in [\n",
    "        \"DilateLabels\",\n",
    "        \"ErodeLabels\",\n",
    "        \"ConnectedComponentLabelingBox\",\n",
    "        \"MaskedVoronoiLabeling\",\n",
    "        \"VoronoiOtsuLabeling\"\n",
    "    ]\n",
    "\n",
    "def produces_binary_image(function_name):\n",
    "    return (function_name.startswith(\"Binary\") or \n",
    "           function_name.startswith(\"Threshold\"))\n",
    "\n",
    "def produces_x_projection(function_name):\n",
    "    return function_name.endswith(\"XProjection\")\n",
    "\n",
    "def produces_y_projection(function_name):\n",
    "    return function_name.endswith(\"YProjection\")\n",
    "\n",
    "def produces_z_projection(function_name):\n",
    "    return function_name.endswith(\"ZProjection\")\n",
    "\n",
    "produces_binary_image(\"threshold_otsu\")"
   ]
  },
  {
   "cell_type": "markdown",
   "metadata": {},
   "source": [
    "## Parsing code and generating code-snippets\n",
    "The following cells demonstrate how C++ code is parsed and how code is generated from that."
   ]
  },
  {
   "cell_type": "code",
   "execution_count": 7,
   "metadata": {},
   "outputs": [],
   "source": [
    "import glob\n",
    "import os\n",
    "import sys\n",
    "import numpy as np\n",
    "\n",
    "# define __file__ if it is not defined\n",
    "if '__file__' not in globals():\n",
    "    __file__ = os.path.abspath('generate-java.ipynb')\n",
    "\n",
    "# get platform linux, windows, darwin\n",
    "platform = sys.platform\n",
    "# get platform architecture x86_64, x86, armv7l\n",
    "try:\n",
    "    architecture = os.uname().machine\n",
    "except:\n",
    "    architecture = \"\"\n",
    "# get the python version\n",
    "python_version = sys.version_info"
   ]
  },
  {
   "cell_type": "markdown",
   "metadata": {},
   "source": [
    "Get the list of hpp files in the tiers directory and sort them by name."
   ]
  },
  {
   "cell_type": "code",
   "execution_count": 8,
   "metadata": {},
   "outputs": [
    {
     "name": "stdout",
     "output_type": "stream",
     "text": [
      "['C:/structure/code/CLIc_prototype/clic\\\\include\\\\tier1\\\\cleAbsoluteKernel.hpp', 'C:/structure/code/CLIc_prototype/clic\\\\include\\\\tier1\\\\cleAddImageAndScalarKernel.hpp', 'C:/structure/code/CLIc_prototype/clic\\\\include\\\\tier1\\\\cleAddImagesWeightedKernel.hpp', 'C:/structure/code/CLIc_prototype/clic\\\\include\\\\tier1\\\\cleBinaryAndKernel.hpp', 'C:/structure/code/CLIc_prototype/clic\\\\include\\\\tier1\\\\cleBinaryEdgeDetectionKernel.hpp', 'C:/structure/code/CLIc_prototype/clic\\\\include\\\\tier1\\\\cleBinaryNotKernel.hpp', 'C:/structure/code/CLIc_prototype/clic\\\\include\\\\tier1\\\\cleBinaryOrKernel.hpp', 'C:/structure/code/CLIc_prototype/clic\\\\include\\\\tier1\\\\cleBinarySubtractKernel.hpp', 'C:/structure/code/CLIc_prototype/clic\\\\include\\\\tier1\\\\cleBinaryXorKernel.hpp', 'C:/structure/code/CLIc_prototype/clic\\\\include\\\\tier1\\\\cleBlockEnumerateKernel.hpp', 'C:/structure/code/CLIc_prototype/clic\\\\include\\\\tier1\\\\cleConvolveKernel.hpp', 'C:/structure/code/CLIc_prototype/clic\\\\include\\\\tier1\\\\cleCopyKernel.hpp', 'C:/structure/code/CLIc_prototype/clic\\\\include\\\\tier1\\\\cleCropKernel.hpp', 'C:/structure/code/CLIc_prototype/clic\\\\include\\\\tier1\\\\cleCustomKernel.hpp', 'C:/structure/code/CLIc_prototype/clic\\\\include\\\\tier1\\\\cleDetectMaximaKernel.hpp', 'C:/structure/code/CLIc_prototype/clic\\\\include\\\\tier1\\\\cleDilateBoxKernel.hpp', 'C:/structure/code/CLIc_prototype/clic\\\\include\\\\tier1\\\\cleDilateSphereKernel.hpp', 'C:/structure/code/CLIc_prototype/clic\\\\include\\\\tier1\\\\cleDivideImageAndScalarKernel.hpp', 'C:/structure/code/CLIc_prototype/clic\\\\include\\\\tier1\\\\cleDivideImagesKernel.hpp', 'C:/structure/code/CLIc_prototype/clic\\\\include\\\\tier1\\\\cleEqualConstantKernel.hpp', 'C:/structure/code/CLIc_prototype/clic\\\\include\\\\tier1\\\\cleEqualKernel.hpp', 'C:/structure/code/CLIc_prototype/clic\\\\include\\\\tier1\\\\cleErodeBoxKernel.hpp', 'C:/structure/code/CLIc_prototype/clic\\\\include\\\\tier1\\\\cleErodeSphereKernel.hpp', 'C:/structure/code/CLIc_prototype/clic\\\\include\\\\tier1\\\\cleExecuteSeparableKernel.hpp', 'C:/structure/code/CLIc_prototype/clic\\\\include\\\\tier1\\\\cleFlagExistingLabelsKernel.hpp', 'C:/structure/code/CLIc_prototype/clic\\\\include\\\\tier1\\\\cleGaussianBlurKernel.hpp', 'C:/structure/code/CLIc_prototype/clic\\\\include\\\\tier1\\\\cleGradientXKernel.hpp', 'C:/structure/code/CLIc_prototype/clic\\\\include\\\\tier1\\\\cleGradientYKernel.hpp', 'C:/structure/code/CLIc_prototype/clic\\\\include\\\\tier1\\\\cleGradientZKernel.hpp', 'C:/structure/code/CLIc_prototype/clic\\\\include\\\\tier1\\\\cleGreaterConstantKernel.hpp', 'C:/structure/code/CLIc_prototype/clic\\\\include\\\\tier1\\\\cleGreaterKernel.hpp', 'C:/structure/code/CLIc_prototype/clic\\\\include\\\\tier1\\\\cleGreaterOrEqualConstantKernel.hpp', 'C:/structure/code/CLIc_prototype/clic\\\\include\\\\tier1\\\\cleGreaterOrEqualKernel.hpp', 'C:/structure/code/CLIc_prototype/clic\\\\include\\\\tier1\\\\cleLaplaceBoxKernel.hpp', 'C:/structure/code/CLIc_prototype/clic\\\\include\\\\tier1\\\\cleMaskKernel.hpp', 'C:/structure/code/CLIc_prototype/clic\\\\include\\\\tier1\\\\cleMaximumBoxKernel.hpp', 'C:/structure/code/CLIc_prototype/clic\\\\include\\\\tier1\\\\cleMaximumImagesKernel.hpp', 'C:/structure/code/CLIc_prototype/clic\\\\include\\\\tier1\\\\cleMaximumSphereKernel.hpp', 'C:/structure/code/CLIc_prototype/clic\\\\include\\\\tier1\\\\cleMaximumXProjectionKernel.hpp', 'C:/structure/code/CLIc_prototype/clic\\\\include\\\\tier1\\\\cleMaximumYProjectionKernel.hpp', 'C:/structure/code/CLIc_prototype/clic\\\\include\\\\tier1\\\\cleMaximumZProjectionKernel.hpp', 'C:/structure/code/CLIc_prototype/clic\\\\include\\\\tier1\\\\cleMeanBoxKernel.hpp', 'C:/structure/code/CLIc_prototype/clic\\\\include\\\\tier1\\\\cleMeanSphereKernel.hpp', 'C:/structure/code/CLIc_prototype/clic\\\\include\\\\tier1\\\\cleMinimumBoxKernel.hpp', 'C:/structure/code/CLIc_prototype/clic\\\\include\\\\tier1\\\\cleMinimumImagesKernel.hpp', 'C:/structure/code/CLIc_prototype/clic\\\\include\\\\tier1\\\\cleMinimumSphereKernel.hpp', 'C:/structure/code/CLIc_prototype/clic\\\\include\\\\tier1\\\\cleMinimumXProjectionKernel.hpp', 'C:/structure/code/CLIc_prototype/clic\\\\include\\\\tier1\\\\cleMinimumYProjectionKernel.hpp', 'C:/structure/code/CLIc_prototype/clic\\\\include\\\\tier1\\\\cleMinimumZProjectionKernel.hpp', 'C:/structure/code/CLIc_prototype/clic\\\\include\\\\tier1\\\\cleMultiplyImageAndScalarKernel.hpp', 'C:/structure/code/CLIc_prototype/clic\\\\include\\\\tier1\\\\cleMultiplyImagesKernel.hpp', 'C:/structure/code/CLIc_prototype/clic\\\\include\\\\tier1\\\\cleNonzeroMinimumBoxKernel.hpp', 'C:/structure/code/CLIc_prototype/clic\\\\include\\\\tier1\\\\cleNotEqualConstantKernel.hpp', 'C:/structure/code/CLIc_prototype/clic\\\\include\\\\tier1\\\\cleNotEqualKernel.hpp', 'C:/structure/code/CLIc_prototype/clic\\\\include\\\\tier1\\\\cleOnlyzeroOverwriteMaximumBoxKernel.hpp', 'C:/structure/code/CLIc_prototype/clic\\\\include\\\\tier1\\\\cleOnlyzeroOverwriteMaximumDiamondKernel.hpp', 'C:/structure/code/CLIc_prototype/clic\\\\include\\\\tier1\\\\clePowerImagesKernel.hpp', 'C:/structure/code/CLIc_prototype/clic\\\\include\\\\tier1\\\\clePowerKernel.hpp', 'C:/structure/code/CLIc_prototype/clic\\\\include\\\\tier1\\\\cleReplaceIntensitiesKernel.hpp', 'C:/structure/code/CLIc_prototype/clic\\\\include\\\\tier1\\\\cleReplaceIntensityKernel.hpp', 'C:/structure/code/CLIc_prototype/clic\\\\include\\\\tier1\\\\cleSeparableKernel.hpp', 'C:/structure/code/CLIc_prototype/clic\\\\include\\\\tier1\\\\cleSetColumnKernel.hpp', 'C:/structure/code/CLIc_prototype/clic\\\\include\\\\tier1\\\\cleSetKernel.hpp', 'C:/structure/code/CLIc_prototype/clic\\\\include\\\\tier1\\\\cleSetNonzeroPixelsToPixelindexKernel.hpp', 'C:/structure/code/CLIc_prototype/clic\\\\include\\\\tier1\\\\cleSmallerConstantKernel.hpp', 'C:/structure/code/CLIc_prototype/clic\\\\include\\\\tier1\\\\cleSmallerKernel.hpp', 'C:/structure/code/CLIc_prototype/clic\\\\include\\\\tier1\\\\cleSmallerOrEqualConstantKernel.hpp', 'C:/structure/code/CLIc_prototype/clic\\\\include\\\\tier1\\\\cleSmallerOrEqualKernel.hpp', 'C:/structure/code/CLIc_prototype/clic\\\\include\\\\tier1\\\\cleSobelKernel.hpp', 'C:/structure/code/CLIc_prototype/clic\\\\include\\\\tier1\\\\cleSubtractImageFromScalarKernel.hpp', 'C:/structure/code/CLIc_prototype/clic\\\\include\\\\tier1\\\\cleSumReductionXKernel.hpp', 'C:/structure/code/CLIc_prototype/clic\\\\include\\\\tier1\\\\cleSumXProjectionKernel.hpp', 'C:/structure/code/CLIc_prototype/clic\\\\include\\\\tier1\\\\cleSumYProjectionKernel.hpp', 'C:/structure/code/CLIc_prototype/clic\\\\include\\\\tier1\\\\cleSumZProjectionKernel.hpp']\n"
     ]
    }
   ],
   "source": [
    "# get first argument of the script\n",
    "tier = 1 #sys.argv[1]\n",
    "\n",
    "# get current directory\n",
    "current_dir = os.path.dirname(os.path.abspath(__file__))\n",
    "# get the relative path to directory and add 'tier' plus the number of the tier\n",
    "tier_dir = os.path.join('C:/structure/code/CLIc_prototype/clic', 'include', 'tier' + str(tier))\n",
    "# list all files in the tier_dir\n",
    "files = glob.glob(tier_dir + '/*.hpp')\n",
    "files.sort()\n",
    "print(files)"
   ]
  },
  {
   "cell_type": "markdown",
   "metadata": {},
   "source": [
    "Define a set of function to parse the hpp files and extract the information we need."
   ]
  },
  {
   "cell_type": "code",
   "execution_count": 9,
   "metadata": {
    "tags": []
   },
   "outputs": [],
   "source": [
    "file = 'C:/structure/code/CLIc_prototype/clic\\\\include\\\\tier1\\\\cleDivideImageAndScalarKernel.hpp'"
   ]
  },
  {
   "cell_type": "code",
   "execution_count": 10,
   "metadata": {},
   "outputs": [
    {
     "data": {
      "text/plain": [
       "'(const std::shared_ptr<::Processor> & device,\\n                                const Image &                           src,\\n                                const Image &                           dst,\\n                                const float &                           scalar)'"
      ]
     },
     "execution_count": 10,
     "metadata": {},
     "output_type": "execute_result"
    }
   ],
   "source": [
    "def read_function_signature(file, function_name):\n",
    "    with open(file, 'r') as f:\n",
    "        # read the file content\n",
    "        content = f.read()\n",
    "        # find the position of the function of interest\n",
    "        start = content.find(function_name + 'Kernel_Call')\n",
    "        # find the position of the function signature\n",
    "        start = content.find('(', start)\n",
    "        # find the position of the end of the function signature\n",
    "        end = content.find(')', start)\n",
    "        # extract the function signature\n",
    "        function_signature = content[start:end+1]\n",
    "        # remove the prefix 'cle' from the function signature\n",
    "        function_signature = function_signature.replace('cle', '')\n",
    "        # remove the suffix 'Kernel_Call' from the function signature\n",
    "        function_signature = function_signature.replace('Kernel_Call', '')\n",
    "    return function_signature\n",
    "\n",
    "function_name = os.path.basename(file)[3:-10]\n",
    "function_signature = read_function_signature(file, function_name)\n",
    "function_signature"
   ]
  },
  {
   "cell_type": "code",
   "execution_count": 11,
   "metadata": {},
   "outputs": [
    {
     "data": {
      "text/plain": [
       "['device', 'src', 'dst', 'scalar']"
      ]
     },
     "execution_count": 11,
     "metadata": {},
     "output_type": "execute_result"
    }
   ],
   "source": [
    "def get_parameter_names(function_signature):\n",
    "    # split the function signature into a list of parameters\n",
    "    parameters = function_signature[1:-1].split(',')\n",
    "    # get the parameter names\n",
    "    parameter_names = [p.split(' ')[-1] for p in parameters]\n",
    "    return parameter_names\n",
    "\n",
    "parameter_names = get_parameter_names(function_signature)\n",
    "parameter_names"
   ]
  },
  {
   "cell_type": "code",
   "execution_count": 12,
   "metadata": {
    "tags": []
   },
   "outputs": [
    {
     "data": {
      "text/plain": [
       "['const std::shared_ptr<::Processor> & device',\n",
       " 'const Image & src',\n",
       " 'const Image & dst',\n",
       " 'const float & scalar']"
      ]
     },
     "execution_count": 12,
     "metadata": {},
     "output_type": "execute_result"
    }
   ],
   "source": [
    "def get_parameter_names_with_types(function_signature):\n",
    "    # split the function signature into a list of parameters\n",
    "    function_signature = function_signature.replace(\"\\n\", \" \")\n",
    "    #function_signature = function_signature.replace(\"const\", \" \")\n",
    "    #function_signature = function_signature.replace(\"&\", \" \")\n",
    "    while \"  \" in function_signature:\n",
    "        function_signature = function_signature.replace(\"  \", \" \")\n",
    "    \n",
    "    parameters = function_signature[1:-1].split(',')\n",
    "    return [p.strip() for p in parameters]\n",
    "\n",
    "parameter_names = get_parameter_names_with_types(function_signature)\n",
    "parameter_names"
   ]
  },
  {
   "cell_type": "code",
   "execution_count": 13,
   "metadata": {
    "tags": []
   },
   "outputs": [
    {
     "data": {
      "text/plain": [
       "['const ProcessorJ & device',\n",
       " 'const BufferJ & src',\n",
       " 'const BufferJ & dst',\n",
       " 'const float & scalar']"
      ]
     },
     "execution_count": 13,
     "metadata": {},
     "output_type": "execute_result"
    }
   ],
   "source": [
    "def translateTypesToJava(parameter):\n",
    "    parameter = parameter.replace(\"Image\", \"BufferJ\")\n",
    "    parameter = parameter.replace(\"size_t\", \"int\")\n",
    "    parameter = parameter.replace(\"std::shared_ptr<::Processor>\", \"ProcessorJ\")\n",
    "    return parameter\n",
    "    \n",
    "parameter_names_java = [translateTypesToJava(p) for p in parameter_names]\n",
    "parameter_names_java"
   ]
  },
  {
   "cell_type": "code",
   "execution_count": 14,
   "metadata": {},
   "outputs": [
    {
     "name": "stdout",
     "output_type": "stream",
     "text": [
      "\n",
      "    void Tier1::divideImageAndScalar(const ProcessorJ & device, const BufferJ & src, const BufferJ & dst, const float & scalar)\n",
      "    {\n",
      "        cle::DivideImageAndScalarKernel_Call(device.getShared(), src.get(), dst.get(), scalar);\n",
      "    }\n",
      "    \n"
     ]
    }
   ],
   "source": [
    "def generate_cpp_wrapper(function_name, tier, parameter_names):\n",
    "    # generate the function name for python and c++\n",
    "    py_function_name = '_' + function_name + 'Kernel_Call'\n",
    "    cpp_function_name = function_name + 'Kernel_Call'\n",
    "    tier_function_name = function_name[0].lower() + function_name[1:]\n",
    "    # generate the function body for the wrapper\n",
    "    #wrapper_function = \"m.def(\\\"\" + py_function_name + \"\\\", &cle::\" + cpp_function_name + \", \\\"Call \" + cpp_function_name + \" from C++.\\\",\\n\"\n",
    "    #wrapper_function += \"pybind11::arg(\\\"\"+ parameter_names[0] +\"\\\")\"\n",
    "    \n",
    "    parameter_names_merged = \", \".join(parameter_names)\n",
    "    parameter_names_call = []\n",
    "    for parameter_name in parameter_names:\n",
    "        name = parameter_name.split(\" \")[-1]\n",
    "        if \"ProcessorJ\" in parameter_name:\n",
    "            parameter_names_call.append(name + \".getShared()\")\n",
    "        elif \"BufferJ\" in parameter_name:\n",
    "            parameter_names_call.append(name + \".get()\")\n",
    "        else:\n",
    "            parameter_names_call.append(name)\n",
    "    parameter_names_call_merged = \", \".join(parameter_names_call)\n",
    "    \n",
    "    cpp_wrapper = f\"\"\"\n",
    "    void Tier{tier}::{tier_function_name}({parameter_names_merged})\n",
    "    {{\n",
    "        cle::{cpp_function_name}({parameter_names_call_merged});\n",
    "    }}\n",
    "    \"\"\"\n",
    "    return cpp_wrapper\n",
    "\n",
    "cpp_wrapper = generate_cpp_wrapper(function_name, tier, parameter_names_java)\n",
    "print(cpp_wrapper)"
   ]
  },
  {
   "cell_type": "code",
   "execution_count": 15,
   "metadata": {
    "tags": []
   },
   "outputs": [
    {
     "name": "stdout",
     "output_type": "stream",
     "text": [
      "    static void divideImageAndScalar(const ProcessorJ & device, const BufferJ & src, const BufferJ & dst, const float & scalar);\n"
     ]
    }
   ],
   "source": [
    "def generate_cpp_signature(cpp_wrapper):\n",
    "    signature = cpp_wrapper.split(\"\\n\")[1].replace(\"void\", \"static void\")\n",
    "    for tier in range(20, 0, -1):\n",
    "        signature = signature.replace(\"Tier\" + str(tier) + \"::\", \"\")\n",
    "        \n",
    "    x = 16\n",
    "    return signature[:x] +  signature[x].lower() + signature[x+1:] + \";\"\n",
    "\n",
    "signature = generate_cpp_signature(cpp_wrapper)\n",
    "print(signature)"
   ]
  },
  {
   "cell_type": "code",
   "execution_count": 16,
   "metadata": {
    "tags": []
   },
   "outputs": [
    {
     "data": {
      "text/plain": [
       "'divide_image_and_scalar'"
      ]
     },
     "execution_count": 16,
     "metadata": {},
     "output_type": "execute_result"
    }
   ],
   "source": [
    "def camel_to_snake(camel_case):\n",
    "    snake_case = ''\n",
    "    for i, char in enumerate(camel_case):\n",
    "        if i > 0 and char.isupper():\n",
    "            snake_case += '_'\n",
    "        snake_case += char.lower()\n",
    "    return snake_case\n",
    "\n",
    "camel_to_snake(\"DivideImageAndScalar\")"
   ]
  },
  {
   "cell_type": "code",
   "execution_count": 17,
   "metadata": {},
   "outputs": [
    {
     "name": "stdout",
     "output_type": "stream",
     "text": [
      "\n",
      "    public BufferJ divide_image_and_scalar(Object src, Object dst, float scalar) {\n",
      "        BufferJ srcJ = push(src);\n",
      "        BufferJ dstJ = create_like_if_none(srcJ, dst);\n",
      "        Tier1.divideImageAndScalar(processor, srcJ, dstJ, scalar);\n",
      "        return dstJ;\n",
      "    }\n",
      "    \n"
     ]
    }
   ],
   "source": [
    "def generate_clij3_wrapper(function_name, tier, parameter_names):\n",
    "    \n",
    "    java_function_name = camel_to_snake(function_name)\n",
    "    cpp_function_name = function_name[0].lower() + function_name[1:]\n",
    "    \n",
    "    stub_code = []\n",
    "    parameters_signature = []\n",
    "    parameters_call = []\n",
    "    first_buffer = None\n",
    "    return_buffer = None\n",
    "    for parameter_name in parameter_names:\n",
    "        name = parameter_name.split(\" \")[-1]\n",
    "        parameter_type = parameter_name.replace(\"const\", \" \").replace(\"&\", \" \").strip()\n",
    "        while \"  \" in parameter_type:\n",
    "            parameter_type = parameter_type.replace(\"  \", \" \")\n",
    "        parameter_type = parameter_type.split(\" \")[0]\n",
    "\n",
    "        if parameter_type == \"ProcessorJ\":\n",
    "            pass\n",
    "        elif parameter_type == \"BufferJ\":\n",
    "            if first_buffer is None:\n",
    "                first_buffer = name\n",
    "            parameters_signature.append(\"Object \" + name)\n",
    "            parameters_call.append(name + \"J\")\n",
    "            stub_code.append(f\"BufferJ {name}J = push({name});\")\n",
    "            return_buffer = name\n",
    "        else:\n",
    "            parameters_signature.append(parameter_type + \" \" + name)\n",
    "            parameters_call.append(name)\n",
    "    \n",
    "    # the creator_function depends on the function; e.g. a maximum_x_projection would create a 2D image from a 3D image\n",
    "    # Todo: This might be removed after resolving https://github.com/clEsperanto/CLIc_prototype/issues/164\n",
    "    creator_function = \"create_like_if_none(\" + first_buffer + \"J, \"\n",
    "    if produces_label_image(function_name):\n",
    "        creator_function = \"create_labels_like_if_none(\" + first_buffer + \"J, \"\n",
    "    elif produces_binary_image(function_name):\n",
    "        creator_function = \"create_binary_like_if_none(\" + first_buffer + \"J, \"\n",
    "    elif produces_x_projection(function_name):\n",
    "        creator_function = \"create_2d_yz_like_if_none(\" + first_buffer + \"J, \"\n",
    "    elif produces_y_projection(function_name):\n",
    "        creator_function = \"create_2d_zx_like_if_none(\" + first_buffer + \"J, \"\n",
    "    elif produces_z_projection(function_name):\n",
    "        creator_function = \"create_2d_yx_like_if_none(\" + first_buffer + \"J, \"\n",
    "    \n",
    "    if len(stub_code) > 1:\n",
    "        stub_code[-1] = stub_code[-1].replace(\"push(\", creator_function)\n",
    "    \n",
    "    parameters_call = \", \".join(parameters_call)\n",
    "    parameters_signature = \", \".join(parameters_signature)\n",
    "    stub_code = \"\\n        \".join(stub_code)\n",
    "    \n",
    "    clij3_wrapper = f\"\"\"\n",
    "    public BufferJ {java_function_name}({parameters_signature}) {{\n",
    "        {stub_code}\n",
    "        Tier{tier}.{cpp_function_name}(processor, {parameters_call});\n",
    "        return {return_buffer}J;\n",
    "    }}\n",
    "    \"\"\"\n",
    "    \n",
    "    return clij3_wrapper\n",
    "\n",
    "clij3_wrapper = generate_clij3_wrapper(function_name, tier, parameter_names_java)\n",
    "\n",
    "print(clij3_wrapper)"
   ]
  },
  {
   "cell_type": "markdown",
   "metadata": {},
   "source": [
    "## Generate KERNELJ header for all tiers\n"
   ]
  },
  {
   "cell_type": "code",
   "execution_count": 18,
   "metadata": {
    "tags": []
   },
   "outputs": [
    {
     "name": "stdout",
     "output_type": "stream",
     "text": [
      "\n",
      "class Tier1\n",
      "{\n",
      "public:\n",
      "        static void absolute(const ProcessorJ & device, const BufferJ & src, const BufferJ & dst);\n",
      "        static void addImageAndScalar(const ProcessorJ & device, const BufferJ & src, const BufferJ & dst, const float & value);\n",
      "        static void addImagesWeighted(const ProcessorJ & device, const BufferJ & src1, const BufferJ & src2, const BufferJ & dst, const float & w1, const float & w2);\n",
      "        static void binaryAnd(const ProcessorJ & device, const BufferJ & src1, const BufferJ & src2, const BufferJ & dst);\n",
      "        static void binaryEdgeDetection(const ProcessorJ & device, const BufferJ & src, const BufferJ & dst);\n",
      "        static void binaryNot(const ProcessorJ & device, const BufferJ & src, const BufferJ & dst);\n",
      "        static void binaryOr(const ProcessorJ & device, const BufferJ & src1, const BufferJ & src2, const BufferJ & dst);\n",
      "        static void binarySubtract(const ProcessorJ & device, const BufferJ & src1, const BufferJ & src2, const BufferJ & dst);\n",
      "        static void binaryXor(const ProcessorJ & device, const BufferJ & src1, const BufferJ & src2, const BufferJ & dst);\n",
      "        static void blockEnumerate(const ProcessorJ & device, const BufferJ & src, const BufferJ & sum, const BufferJ & dst, const int & value);\n",
      "        static void convolve(const ProcessorJ & device, const BufferJ & src, const BufferJ & convolve_kernel, const BufferJ & dst);\n",
      "        static void copy(const ProcessorJ & device, const BufferJ & src, const BufferJ & dst);\n",
      "        static void crop(const ProcessorJ & device, const BufferJ & src, const BufferJ & dst, const int & index0, const int & index1, const int & index2);\n",
      "        static void detectMaxima(const ProcessorJ & device, const BufferJ & src, const BufferJ & dst);\n",
      "        static void dilateBox(const ProcessorJ & device, const BufferJ & src, const BufferJ & dst);\n",
      "        static void dilateSphere(const ProcessorJ & device, const BufferJ & src, const BufferJ & dst);\n",
      "        static void divideImageAndScalar(const ProcessorJ & device, const BufferJ & src, const BufferJ & dst, const float & scalar);\n",
      "        static void divideImages(const ProcessorJ & device, const BufferJ & src1, const BufferJ & src2, const BufferJ & dst);\n",
      "        static void equalConstant(const ProcessorJ & device, const BufferJ & src, const BufferJ & dst, const float & value);\n",
      "        static void equal(const ProcessorJ & device, const BufferJ & src1, const BufferJ & src2, const BufferJ & dst);\n",
      "        static void erodeBox(const ProcessorJ & device, const BufferJ & src, const BufferJ & dst);\n",
      "        static void erodeSphere(const ProcessorJ & device, const BufferJ & src, const BufferJ & dst);\n",
      "        static void flagExistingLabels(const ProcessorJ & device, const BufferJ & src, const BufferJ & dst);\n",
      "        static void gaussianBlur(const ProcessorJ & device, const BufferJ & src, const BufferJ & dst, const float & sigma_x, const float & sigma_y, const float & sigma_z);\n",
      "        static void gradientX(const ProcessorJ & device, const BufferJ & src, const BufferJ & dst);\n",
      "        static void gradientY(const ProcessorJ & device, const BufferJ & src, const BufferJ & dst);\n",
      "        static void gradientZ(const ProcessorJ & device, const BufferJ & src, const BufferJ & dst);\n",
      "        static void greaterConstant(const ProcessorJ & device, const BufferJ & src, const BufferJ & dst, const float & value);\n",
      "        static void greater(const ProcessorJ & device, const BufferJ & src1, const BufferJ & src2, const BufferJ & dst);\n",
      "        static void greaterOrEqualConstant(const ProcessorJ & device, const BufferJ & src, const BufferJ & dst, const float & value);\n",
      "        static void greaterOrEqual(const ProcessorJ & device, const BufferJ & src1, const BufferJ & src2, const BufferJ & dst);\n",
      "        static void laplaceBox(const ProcessorJ & device, const BufferJ & src, const BufferJ & dst);\n",
      "        static void mask(const ProcessorJ & device, const BufferJ & src, const BufferJ & mask, const BufferJ & dst);\n",
      "        static void maximumBox(const ProcessorJ & device, const BufferJ & src, const BufferJ & dst, const int & radius_x, const int & radius_y, const int & radius_z);\n",
      "        static void maximumImages(const ProcessorJ & device, const BufferJ & src1, const BufferJ & src2, const BufferJ & dst);\n",
      "        static void maximumSphere(const ProcessorJ & device, const BufferJ & src, const BufferJ & dst, const float & radius_x, const float & radius_y, const float & radius_z);\n",
      "        static void maximumXProjection(const ProcessorJ & device, const BufferJ & src, const BufferJ & dst);\n",
      "        static void maximumYProjection(const ProcessorJ & device, const BufferJ & src, const BufferJ & dst);\n",
      "        static void maximumZProjection(const ProcessorJ & device, const BufferJ & src, const BufferJ & dst);\n",
      "        static void meanBox(const ProcessorJ & device, const BufferJ & src, const BufferJ & dst, const float & radius_x, const float & radius_y, const float & radius_z);\n",
      "        static void meanSphere(const ProcessorJ & device, const BufferJ & src, const BufferJ & dst, const float & radius_x, const float & radius_y, const float & radius_z);\n",
      "        static void minimumBox(const ProcessorJ & device, const BufferJ & src, const BufferJ & dst, const int & radius_x, const int & radius_y, const int & radius_z);\n",
      "        static void minimumImages(const ProcessorJ & device, const BufferJ & src1, const BufferJ & src2, const BufferJ & dst);\n",
      "        static void minimumSphere(const ProcessorJ & device, const BufferJ & src, const BufferJ & dst, const float & radius_x, const float & radius_y, const float & radius_z);\n",
      "        static void minimumXProjection(const ProcessorJ & device, const BufferJ & src, const BufferJ & dst);\n",
      "        static void minimumYProjection(const ProcessorJ & device, const BufferJ & src, const BufferJ & dst);\n",
      "        static void minimumZProjection(const ProcessorJ & device, const BufferJ & src, const BufferJ & dst);\n",
      "        static void multiplyImageAndScalar(const ProcessorJ & device, const BufferJ & src, const BufferJ & dst, const float & value);\n",
      "        static void multiplyImages(const ProcessorJ & device, const BufferJ & src1, const BufferJ & src2, const BufferJ & dst);\n",
      "        static void nonzeroMinimumBox(const ProcessorJ & device, const BufferJ & src, const BufferJ & dst, const BufferJ & flag);\n",
      "        static void notEqualConstant(const ProcessorJ & device, const BufferJ & src, const BufferJ & dst, const float & value);\n",
      "        static void notEqual(const ProcessorJ & device, const BufferJ & src1, const BufferJ & src2, const BufferJ & dst);\n",
      "        static void onlyzeroOverwriteMaximumBox(const ProcessorJ & device, const BufferJ & src, const BufferJ & dst1, const BufferJ & dst2);\n",
      "        static void onlyzeroOverwriteMaximumDiamond(const ProcessorJ & device, const BufferJ & src, const BufferJ & dst1, const BufferJ & dst2);\n",
      "        static void powerImages(const ProcessorJ & device, const BufferJ & src1, const BufferJ & src2, const BufferJ & dst);\n",
      "        static void power(const ProcessorJ & device, const BufferJ & src, const BufferJ & dst, const float & scalar);\n",
      "        static void replaceIntensities(const ProcessorJ & device, const BufferJ & src, const BufferJ & dst, const BufferJ & map);\n",
      "        static void replaceIntensity(const ProcessorJ & device, const BufferJ & src, const BufferJ & dst, const float & in_value, const float & out_value);\n",
      "        static void setColumn(const ProcessorJ & device, const BufferJ & src, const int & index, const float & value);\n",
      "        static void set(const ProcessorJ & device, const BufferJ & src, const float & value);\n",
      "        static void setNonzeroPixelsToPixelindex(const ProcessorJ & device, const BufferJ & src, const BufferJ & dst, const float & value);\n",
      "        static void smallerConstant(const ProcessorJ & device, const BufferJ & src, const BufferJ & dst, const float & value);\n",
      "        static void smaller(const ProcessorJ & device, const BufferJ & src1, const BufferJ & src2, const BufferJ & dst);\n",
      "        static void smallerOrEqualConstant(const ProcessorJ & device, const BufferJ & src, const BufferJ & dst, const float & value);\n",
      "        static void smallerOrEqual(const ProcessorJ & device, const BufferJ & src1, const BufferJ & src2, const BufferJ & dst);\n",
      "        static void sobel(const ProcessorJ & device, const BufferJ & src, const BufferJ & dst);\n",
      "        static void subtractImageFromScalar(const ProcessorJ & device, const BufferJ & src, const BufferJ & dst, const float & value);\n",
      "        static void sumReductionX(const ProcessorJ & device, const BufferJ & src, const BufferJ & dst, const int & value);\n",
      "        static void sumXProjection(const ProcessorJ & device, const BufferJ & src, const BufferJ & dst);\n",
      "        static void sumYProjection(const ProcessorJ & device, const BufferJ & src, const BufferJ & dst);\n",
      "        static void sumZProjection(const ProcessorJ & device, const BufferJ & src, const BufferJ & dst);\n",
      "};\n",
      "    \n",
      "\n",
      "class Tier2\n",
      "{\n",
      "public:\n",
      "        static void dilateLabels(const ProcessorJ & device, const BufferJ & src, const BufferJ & dst, const float & radius);\n",
      "        static void extendLabelingViaVoronoi(const ProcessorJ & device, const BufferJ & src, const BufferJ & dst);\n",
      "        static void maximumOfAllPixels(const ProcessorJ & device, const BufferJ & src, const BufferJ & dst);\n",
      "        static void minimumOfAllPixels(const ProcessorJ & device, const BufferJ & src, const BufferJ & dst);\n",
      "        static void sumOfAllPixels(const ProcessorJ & device, const BufferJ & src, const BufferJ & dst);\n",
      "        static void topHatBox(const ProcessorJ & device, const BufferJ & src, const BufferJ & dst, const int & radius_x, const int & radius_y, const int & radius_z);\n",
      "};\n",
      "    \n",
      "\n",
      "class Tier3\n",
      "{\n",
      "public:\n",
      "        static void closeIndexGapsInLabelMap(const ProcessorJ & device, const BufferJ & src, const BufferJ & dst, const int & value);\n",
      "        static void differenceOfGaussian(const ProcessorJ & device, const BufferJ & src, const BufferJ & dst, const float & sigma1_x, const float & sigma1_y, const float & sigma1_z, const float & sigma2_x, const float & sigma2_y, const float & sigma2_z);\n",
      "        static void histogram(const ProcessorJ & device, const BufferJ & src, const BufferJ & dst, const int & bin, const float & min_intensity, const float & max_intensity);\n",
      "};\n",
      "    \n",
      "\n",
      "class Tier4\n",
      "{\n",
      "public:\n",
      "        static void connectedComponentLabelingBox(const ProcessorJ & device, const BufferJ & src, const BufferJ & dst);\n",
      "        static void thresholdOtsu(const ProcessorJ & device, const BufferJ & src, const BufferJ & dst);\n",
      "};\n",
      "    \n",
      "\n",
      "class Tier5\n",
      "{\n",
      "public:\n",
      "        static void maskedVoronoiLabeling(const ProcessorJ & device, const BufferJ & src, const BufferJ & dst, const BufferJ & mask);\n",
      "};\n",
      "    \n",
      "\n",
      "class Tier6\n",
      "{\n",
      "public:\n",
      "        static void voronoiOtsuLabeling(const ProcessorJ & device, const BufferJ & src, const BufferJ & dst, const float & sigma1, const float & sigma2);\n",
      "};\n",
      "    \n"
     ]
    }
   ],
   "source": [
    "def generate_tier_header_code(tier):\n",
    "\n",
    "    # get current directory\n",
    "    current_dir = os.path.dirname(os.path.abspath(__file__))\n",
    "    # get the relative path to directory and add 'tier' plus the number of the tier\n",
    "    tier_dir = os.path.join(CLIC_DIR, 'include', 'tier' + str(tier))\n",
    "    # list all files in the tier_dir\n",
    "    files = glob.glob(tier_dir + '/*.hpp')\n",
    "    files.sort()\n",
    "    #print(files)\n",
    "    \n",
    "    list_of_functions = []\n",
    "    \n",
    "    for file in files:\n",
    "        function_name = os.path.basename(file)[3:-10]\n",
    "        function_signature = read_function_signature(file, function_name)\n",
    "        parameter_names = get_parameter_names_with_types(function_signature)\n",
    "        parameter_names_java = [translateTypesToJava(p) for p in parameter_names]\n",
    "        if function_name not in GENERATOR_BLACKLIST:\n",
    "            cpp_wrapper = generate_cpp_wrapper(function_name, tier, parameter_names_java)\n",
    "            signature = generate_cpp_signature(cpp_wrapper)\n",
    "\n",
    "            list_of_functions.append(signature)\n",
    "    \n",
    "    \n",
    "    list_of_functions = \"\\n    \".join(list_of_functions)\n",
    "    \n",
    "    return f\"\"\"\n",
    "class Tier{tier}\n",
    "{{\n",
    "public:\n",
    "    {list_of_functions}\n",
    "}};\n",
    "    \"\"\"\n",
    "\n",
    "tier1_hpp = generate_tier_header_code(1)\n",
    "print(tier1_hpp)\n",
    "tier2_hpp = generate_tier_header_code(2)\n",
    "print(tier2_hpp)\n",
    "tier3_hpp = generate_tier_header_code(3)\n",
    "print(tier3_hpp)\n",
    "tier4_hpp = generate_tier_header_code(4)\n",
    "print(tier4_hpp)\n",
    "tier5_hpp = generate_tier_header_code(5)\n",
    "print(tier5_hpp)\n",
    "tier6_hpp = generate_tier_header_code(6)\n",
    "print(tier6_hpp)\n"
   ]
  },
  {
   "cell_type": "code",
   "execution_count": 19,
   "metadata": {
    "tags": []
   },
   "outputs": [
    {
     "name": "stdout",
     "output_type": "stream",
     "text": [
      "\n",
      "#ifndef __INCLUDE_KERNELJ_HPP\n",
      "#define __INCLUDE_KERNELJ_HPP\n",
      "\n",
      "#include \"clesperantoj.hpp\"\n",
      "\n",
      "\n",
      "class Tier1\n",
      "{\n",
      "public:\n",
      "        static void absolute(const ProcessorJ & device, const BufferJ & src, const BufferJ & dst);\n",
      "        static void addImageAndScalar(const ProcessorJ & device, const BufferJ & src, const BufferJ & dst, const float & value);\n",
      "        static void addImagesWeighted(const ProcessorJ & d\n"
     ]
    }
   ],
   "source": [
    "kernel_header = f\"\"\"\n",
    "#ifndef __INCLUDE_KERNELJ_HPP\n",
    "#define __INCLUDE_KERNELJ_HPP\n",
    "\n",
    "#include \"clesperantoj.hpp\"\n",
    "\n",
    "{tier1_hpp}\n",
    "{tier2_hpp}\n",
    "{tier3_hpp}\n",
    "{tier4_hpp}\n",
    "{tier5_hpp}\n",
    "{tier6_hpp}\n",
    "\n",
    "#endif // __INCLUDE_KERNELJ_HPP\n",
    "    \"\"\"\n",
    "\n",
    "print(kernel_header[:400])"
   ]
  },
  {
   "cell_type": "code",
   "execution_count": 20,
   "metadata": {
    "tags": []
   },
   "outputs": [],
   "source": [
    "with open(KERNELJ_HEADER_FILE, 'w') as f:\n",
    "    f.write(kernel_header)"
   ]
  },
  {
   "cell_type": "markdown",
   "metadata": {},
   "source": [
    "## Write KernelJ CPP"
   ]
  },
  {
   "cell_type": "code",
   "execution_count": 21,
   "metadata": {
    "tags": []
   },
   "outputs": [
    {
     "name": "stdout",
     "output_type": "stream",
     "text": [
      "\n",
      "    void Tier1::absolute(const ProcessorJ & device, const BufferJ & src, const BufferJ & dst)\n",
      "    {\n",
      "        cle::AbsoluteKernel_Call(device.getShared(), src.get(), dst.get());\n",
      "    }\n",
      "    \n",
      "    \n",
      "    void Tier1::addImageAndScalar(const ProcessorJ & device, const BufferJ & src, const BufferJ & dst, cons\n",
      "\n",
      "    void Tier2::dilateLabels(const ProcessorJ & device, const BufferJ & src, const BufferJ & dst, const float & radius)\n",
      "    {\n",
      "        cle::DilateLabelsKernel_Call(device.getShared(), src.get(), dst.get(), radius);\n",
      "    }\n",
      "    \n",
      "    \n",
      "    void Tier2::extendLabelingViaVoronoi(const ProcessorJ & device, c\n"
     ]
    }
   ],
   "source": [
    "def generate_tier_cpp_code(tier):\n",
    "\n",
    "    # get current directory\n",
    "    current_dir = os.path.dirname(os.path.abspath(__file__))\n",
    "    # get the relative path to directory and add 'tier' plus the number of the tier\n",
    "    tier_dir = os.path.join(CLIC_DIR, 'include', 'tier' + str(tier))\n",
    "    # list all files in the tier_dir\n",
    "    files = glob.glob(tier_dir + '/*.hpp')\n",
    "    files.sort()\n",
    "    #print(files)\n",
    "    \n",
    "    list_of_functions = []\n",
    "    \n",
    "    for file in files:\n",
    "        function_name = os.path.basename(file)[3:-10]\n",
    "        function_signature = read_function_signature(file, function_name)\n",
    "        parameter_names = get_parameter_names_with_types(function_signature)\n",
    "        parameter_names_java = [translateTypesToJava(p) for p in parameter_names]\n",
    "        if function_name not in GENERATOR_BLACKLIST:\n",
    "            cpp_wrapper = generate_cpp_wrapper(function_name, tier, parameter_names_java)\n",
    "\n",
    "            list_of_functions.append(cpp_wrapper)\n",
    "    \n",
    "    \n",
    "    list_of_functions = \"\\n    \".join(list_of_functions)\n",
    "    \n",
    "    return list_of_functions\n",
    "\n",
    "tier1_cpp = generate_tier_cpp_code(1)\n",
    "print(tier1_cpp[:300])\n",
    "tier2_cpp = generate_tier_cpp_code(2)\n",
    "print(tier2_cpp[:300])\n",
    "\n",
    "tier3_cpp = generate_tier_cpp_code(3)\n",
    "tier4_cpp = generate_tier_cpp_code(4)\n",
    "tier5_cpp = generate_tier_cpp_code(5)\n",
    "tier6_cpp = generate_tier_cpp_code(6)"
   ]
  },
  {
   "cell_type": "code",
   "execution_count": 22,
   "metadata": {
    "tags": []
   },
   "outputs": [],
   "source": [
    "kernel_cpp_code = f\"\"\"\n",
    "#include \"kernelj.hpp\"\n",
    "\n",
    "#include \"cleKernelList.hpp\"\n",
    "\n",
    "{tier1_cpp}\n",
    "{tier2_cpp}\n",
    "{tier3_cpp}\n",
    "{tier4_cpp}\n",
    "{tier5_cpp}\n",
    "{tier6_cpp}\n",
    "\"\"\"\n",
    "\n",
    "with open(KERNELJ_SOURCE_FILE, 'w') as f:\n",
    "    f.write(kernel_cpp_code)\n"
   ]
  },
  {
   "cell_type": "markdown",
   "metadata": {},
   "source": [
    "## Write CLIJ3 gateway"
   ]
  },
  {
   "cell_type": "code",
   "execution_count": 23,
   "metadata": {
    "tags": []
   },
   "outputs": [
    {
     "name": "stdout",
     "output_type": "stream",
     "text": [
      "\n",
      "    public BufferJ absolute(Object src, Object dst) {\n",
      "        BufferJ srcJ = push(src);\n",
      "        BufferJ dstJ = create_like_if_none(srcJ, dst);\n",
      "        Tier1.absolute(processor, srcJ, dstJ);\n",
      "        r\n",
      "\n",
      "    public BufferJ dilate_labels(Object src, Object dst, float radius) {\n",
      "        BufferJ srcJ = push(src);\n",
      "        BufferJ dstJ = create_labels_like_if_none(srcJ, dst);\n",
      "        Tier2.dilateLabels(pro\n"
     ]
    }
   ],
   "source": [
    "def generate_clij3_gateway_code(tier):\n",
    "\n",
    "    # get current directory\n",
    "    current_dir = os.path.dirname(os.path.abspath(__file__))\n",
    "    # get the relative path to directory and add 'tier' plus the number of the tier\n",
    "    tier_dir = os.path.join(CLIC_DIR, 'include', 'tier' + str(tier))\n",
    "    # list all files in the tier_dir\n",
    "    files = glob.glob(tier_dir + '/*.hpp')\n",
    "    files.sort()\n",
    "    #print(files)\n",
    "    \n",
    "    list_of_functions = []\n",
    "    \n",
    "    for file in files:\n",
    "        function_name = os.path.basename(file)[3:-10]\n",
    "        function_signature = read_function_signature(file, function_name)\n",
    "        parameter_names = get_parameter_names_with_types(function_signature)\n",
    "        parameter_names_java = [translateTypesToJava(p) for p in parameter_names]\n",
    "        if function_name not in GENERATOR_BLACKLIST:\n",
    "            #print(function_name)\n",
    "            java_wrapper = generate_clij3_wrapper(function_name, tier, parameter_names_java)\n",
    "\n",
    "            list_of_functions.append(java_wrapper)\n",
    "    \n",
    "    \n",
    "    list_of_functions = \"\\n    \".join(list_of_functions)\n",
    "    \n",
    "    return list_of_functions\n",
    "\n",
    "tier1_java = generate_clij3_gateway_code(1)\n",
    "print(tier1_java[:200])\n",
    "\n",
    "tier2_java = generate_clij3_gateway_code(2)\n",
    "print(tier2_java[:200])\n",
    "\n",
    "tier3_java = generate_clij3_gateway_code(3)\n",
    "tier4_java = generate_clij3_gateway_code(4)\n",
    "tier5_java = generate_clij3_gateway_code(5)\n",
    "tier6_java = generate_clij3_gateway_code(6)\n"
   ]
  },
  {
   "cell_type": "code",
   "execution_count": 24,
   "metadata": {
    "tags": []
   },
   "outputs": [],
   "source": [
    "with open(CLIJ3_GATEWAY_SOURCE_FILE, 'r') as file:\n",
    "    # Read the entire contents of the file\n",
    "    clij3_gateway_code = file.read()"
   ]
  },
  {
   "cell_type": "code",
   "execution_count": 25,
   "metadata": {
    "tags": []
   },
   "outputs": [],
   "source": [
    "separator = \"// GENERATOR //\"\n",
    "temp = clij3_gateway_code.split(separator)\n",
    "temp[1] = tier1_java + \"\\n\\n\" + tier2_java + \"\\n\\n\" + tier3_java + \"\\n\\n\" + tier4_java + \"\\n\\n\" + tier5_java + \"\\n\\n\" + tier6_java\n",
    "\n",
    "clij3_gateway_code = separator.join(temp)\n",
    "\n",
    "with open(CLIJ3_GATEWAY_SOURCE_FILE, 'w') as f:\n",
    "    f.write(clij3_gateway_code)\n"
   ]
  },
  {
   "cell_type": "code",
   "execution_count": null,
   "metadata": {},
   "outputs": [],
   "source": []
  }
 ],
 "metadata": {
  "kernelspec": {
   "display_name": "Python 3 (ipykernel)",
   "language": "python",
   "name": "python3"
  },
  "language_info": {
   "codemirror_mode": {
    "name": "ipython",
    "version": 3
   },
   "file_extension": ".py",
   "mimetype": "text/x-python",
   "name": "python",
   "nbconvert_exporter": "python",
   "pygments_lexer": "ipython3",
   "version": "3.9.15"
  },
  "vscode": {
   "interpreter": {
    "hash": "1bf89b5e425e511e6208a82dd7a3225392f448ad069ddd9557f507f6073233bf"
   }
  }
 },
 "nbformat": 4,
 "nbformat_minor": 4
}
